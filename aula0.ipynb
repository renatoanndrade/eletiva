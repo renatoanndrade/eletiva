{
 "cells": [
  {
   "cell_type": "markdown",
   "id": "30122279",
   "metadata": {},
   "source": [
    "# Revisão breve de programação\n",
    "\n",
    "* O que são variáveis?;\n",
    "* Condicionais (If, else);\n",
    "* Definições;\n",
    "* Utilizando bibliotecas de outras pessoas"
   ]
  },
  {
   "cell_type": "markdown",
   "id": "452b56f3",
   "metadata": {},
   "source": []
  },
  {
   "cell_type": "code",
   "execution_count": null,
   "id": "352b1f94",
   "metadata": {},
   "outputs": [],
   "source": [
    "print(\"Olá mundo\")"
   ]
  },
  {
   "cell_type": "code",
   "execution_count": null,
   "id": "65ae0e69",
   "metadata": {},
   "outputs": [],
   "source": [
    "x = 2\n",
    "y = 3\n",
    "print(x+y)"
   ]
  },
  {
   "cell_type": "code",
   "execution_count": null,
   "id": "76f2c263",
   "metadata": {},
   "outputs": [],
   "source": [
    "sujeito = \"Renato\"\n",
    "verbo = \"foi\"\n",
    "complemento = \"à praia\"\n",
    "sentenca = f'{sujeito} {verbo} {complemento}'\n",
    "sentenca"
   ]
  },
  {
   "cell_type": "code",
   "execution_count": null,
   "id": "e561e790",
   "metadata": {},
   "outputs": [],
   "source": [
    "# Esse código diz se é hora do aluno poder ir embora para casa utilizando o laço de repetição while.\n",
    "horario = 7\n",
    "hora_aula = 1\n",
    "while (horario != 14):\n",
    "    print(f\"fique na escola, pois ainda são {horario}\")\n",
    "    horario = horario + hora_aula\n",
    "\n",
    "print(f\"você já pode ir embora, pois já são {horario}\")  "
   ]
  },
  {
   "cell_type": "code",
   "execution_count": null,
   "id": "7b294e7e",
   "metadata": {},
   "outputs": [],
   "source": [
    "senha_cadastrada = '12345'\n",
    "digite_senha = ''\n",
    "\n",
    "while(digite_senha != senha_cadastrada):\n",
    "    digite_senha = input('Digite sua senha')\n",
    "    if digite_senha != senha_cadastrada:\n",
    "        print('você digitou uma senha incorreta')\n",
    "    else:\n",
    "        print('senha validada')"
   ]
  },
  {
   "cell_type": "code",
   "execution_count": null,
   "id": "170d9963",
   "metadata": {},
   "outputs": [],
   "source": [
    "a1 = 2\n",
    "n = 7\n",
    "r = 2\n",
    "an = a1 + (n-1) * r\n",
    "print(an)"
   ]
  },
  {
   "cell_type": "code",
   "execution_count": null,
   "id": "e97d3eb8",
   "metadata": {},
   "outputs": [],
   "source": [
    "a1 = 2\n",
    "n = 7\n",
    "r = 2\n",
    "for n in range(7):\n",
    "    an = a1 +(n-1)*r\n",
    "    print(n, an)"
   ]
  },
  {
   "cell_type": "code",
   "execution_count": null,
   "id": "b7b333ab",
   "metadata": {},
   "outputs": [],
   "source": [
    "def equacao_primeiro_grau(x):\n",
    "    y = 2*x + 1\n",
    "    print(y)\n",
    "\n",
    "x= 3\n",
    "resultado = equacao_primeiro_grau(x)\n",
    "resultado"
   ]
  },
  {
   "cell_type": "code",
   "execution_count": null,
   "id": "50e6c308",
   "metadata": {},
   "outputs": [],
   "source": [
    "from aluno import Aluno\n",
    "aluno1 = Aluno(nome=\"Thiago\", turma=\"1M2\", altura=1.75, peso=70)\n",
    "aluno2 = Aluno(nome=\"Rovena\", turma=\"9M1\", altura=1.56, peso=50)\n",
    "\n",
    "aluno1.alimentar(\"maça\")\n",
    "aluno2.alimentar('biscoitos')\n",
    "\n",
    "aluno1.assistir_aula('matematica')\n",
    "aluno2.assistir_aula('português')\n",
    "\n",
    "\n",
    "aluno1.tarefa('dever de casa')\n",
    "aluno2.tarefa('dever em sala de aula')\n"
   ]
  },
  {
   "cell_type": "code",
   "execution_count": null,
   "id": "c28991a6",
   "metadata": {},
   "outputs": [],
   "source": []
  }
 ],
 "metadata": {
  "kernelspec": {
   "display_name": "Python 3",
   "language": "python",
   "name": "python3"
  },
  "language_info": {
   "codemirror_mode": {
    "name": "ipython",
    "version": 3
   },
   "file_extension": ".py",
   "mimetype": "text/x-python",
   "name": "python",
   "nbconvert_exporter": "python",
   "pygments_lexer": "ipython3",
   "version": "3.12.3"
  }
 },
 "nbformat": 4,
 "nbformat_minor": 5
}
