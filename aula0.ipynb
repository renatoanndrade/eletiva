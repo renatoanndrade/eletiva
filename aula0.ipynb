{
 "cells": [
  {
   "cell_type": "markdown",
   "id": "30122279",
   "metadata": {},
   "source": [
    "# Revisão breve de programação\n",
    "\n",
    "* O que são variáveis?;\n",
    "* Condicionais (If, else);\n",
    "* Definições;\n",
    "* Utilizando bibliotecas de outras pessoas"
   ]
  },
  {
   "cell_type": "markdown",
   "id": "452b56f3",
   "metadata": {},
   "source": []
  },
  {
   "cell_type": "code",
   "execution_count": 1,
   "id": "352b1f94",
   "metadata": {},
   "outputs": [
    {
     "name": "stdout",
     "output_type": "stream",
     "text": [
      "Olá mundo\n"
     ]
    }
   ],
   "source": [
    "print(\"Olá mundo\")"
   ]
  },
  {
   "cell_type": "code",
   "execution_count": null,
   "id": "65ae0e69",
   "metadata": {},
   "outputs": [],
   "source": [
    "s"
   ]
  }
 ],
 "metadata": {
  "kernelspec": {
   "display_name": "Python 3",
   "language": "python",
   "name": "python3"
  },
  "language_info": {
   "codemirror_mode": {
    "name": "ipython",
    "version": 3
   },
   "file_extension": ".py",
   "mimetype": "text/x-python",
   "name": "python",
   "nbconvert_exporter": "python",
   "pygments_lexer": "ipython3",
   "version": "3.12.4"
  }
 },
 "nbformat": 4,
 "nbformat_minor": 5
}
