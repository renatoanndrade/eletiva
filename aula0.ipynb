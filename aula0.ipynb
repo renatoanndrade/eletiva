{
 "cells": [
  {
   "cell_type": "markdown",
   "id": "30122279",
   "metadata": {},
   "source": [
    "# Revisão breve de programação\n",
    "\n",
    "* O que são variáveis?;\n",
    "* Condicionais (If, else);\n",
    "* Definições;\n",
    "* Utilizando bibliotecas de outras pessoas"
   ]
  },
  {
   "cell_type": "markdown",
   "id": "452b56f3",
   "metadata": {},
   "source": []
  },
  {
   "cell_type": "code",
   "execution_count": null,
   "id": "352b1f94",
   "metadata": {},
   "outputs": [],
   "source": []
  }
 ],
 "metadata": {
  "language_info": {
   "name": "python"
  }
 },
 "nbformat": 4,
 "nbformat_minor": 5
}
