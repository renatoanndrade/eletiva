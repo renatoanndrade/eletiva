{
 "cells": [
  {
   "cell_type": "markdown",
   "id": "d2085f5f",
   "metadata": {},
   "source": [
    "# Primeiros Passos para programar um jogo\n",
    "* Instalar o pygame no computador: pip install pygame.\n",
    "* Precisamos importar 3 bibliotecas: pygame, os e random.\n",
    "* Os serve para pegar o caminho das imagens.\n",
    "* Random para gerar numeros aleatorios pois os canos não podem aparecer na mesma posição toda hora."
   ]
  },
  {
   "cell_type": "code",
   "execution_count": null,
   "id": "5ba8b91e",
   "metadata": {},
   "outputs": [],
   "source": [
    "import pygame # cria a interface do jogo\n",
    "import os # controla o computador por linha de comando (os é operacional sistem)\n",
    "import random # sugere valores aleatórios (random em inglês é aleatório)"
   ]
  },
  {
   "cell_type": "markdown",
   "id": "17c79bbd",
   "metadata": {},
   "source": [
    "# Definindo algumas constantes\n",
    "* Por padrão, uma definição de constante no pyhton é escrito com letras maiúsculas.\n",
    "* Constantes não devem ser mudadas nunca, oras, são constantes.\n",
    "* toda imagem que se roda no pygame é escrita como: pygame.image.load(\"nome_do_arquivo.png\")\n",
    "* contudo precisamos colocar o sistema operacional para entrar na pasta iamgens (imgs) e ler os arquivos. Exemplo: os.path.join('imgs', 'pipe')\n",
    "* para não ficar muito pequeno, vamos aumentar as imagens em 2 vezes com comando: pygame.transform.scale2x()\n",
    "* Juntando tudo fica: pygame.transform.scale2x(pygame.image.load(os.path.join('imgs', 'pipe.png')))\n",
    "* Precisamos de uma constante para desenhar a pontuação. Exemplo: pygame.font.SysFont('times', 12)"
   ]
  },
  {
   "cell_type": "code",
   "execution_count": null,
   "id": "2e5b9992",
   "metadata": {},
   "outputs": [],
   "source": [
    "# largura da tela e altura será 500 x 800.\n",
    "TELA_LARGURA = TA FALTANDO\n",
    "TELA_ALTURA = TA FALTANDO\n",
    "\n",
    "# lista de imagens do jogo.\n",
    "IMAGEM_CANO = pygame.transform.scale2x(pygame.image.load(os.path.join('imgs', 'pipe.png')))\n",
    "IMAGEM_CHAO = TA FALTANDO\n",
    "IAMGEM_BACKGROUND = TA FALTANDO\n",
    "\n",
    "# Lista de imagens do personagem\n",
    "IMAGENS_PASSAROS = [\n",
    "    pygame.transform.scale2x(pygame.image.load(os.path.join('imgs', 'bird1.png'))),\n",
    "    TA FALTANDO OUTRAS 2\n",
    "]\n",
    "\n",
    "# Inicilizando a fonte\n",
    "pygame.font.init()\n",
    "FONTE_PONTOS = pygame.font.SysFont('arial', 50)\n"
   ]
  },
  {
   "cell_type": "markdown",
   "id": "d4d46ad2",
   "metadata": {},
   "source": [
    "# Criando os objetos do jogo.\n",
    "* Devemos nos perguntar o que existe no jogo? ou o que se movimenta no jogo?\n",
    "* R: o pássaro, o cano e o chão\n",
    "* Cada um desses objeto será uma classe do python. Ou seja, teremos 3 classes\n",
    "* Cada classe deve ter atributos e métodos que os objetos podem ter\n",
    "* atributos é o que tem o objeto (Adjetivo)\n",
    "* métodos é o que o objeto pode fazer (verbo)\n",
    "* Exemplo: O cano tem comprimento, e distancia até o chão como atributos. Pode caminhar para esquerda a uma velocidade X (métodos)\n",
    "* vamos utilizar a formula do sorvete da físisca para dar movimento vertical ao personagem. Olha que beleza!!!!!\n",
    "* ![Descrição da imagem](imgs/sorvete.png)\n",
    "* MUITO DO QUE ESTÁ NO CÓDIGO A SEGUIR FOI POR TENTATIVA E ERRO, PORTANTO UM JOGO SÓ FICA PERFEITO COM VÁRIAS VERSÕES!!!!!!\n",
    "\n"
   ]
  },
  {
   "cell_type": "code",
   "execution_count": null,
   "id": "3d528b11",
   "metadata": {},
   "outputs": [],
   "source": [
    "class Passaro:\n",
    "    IMGS = IMAGENS_PASSAROS\n",
    "    # animação de rotação\n",
    "    ROTACAO_MAXIMA = 25\n",
    "    VELOCIDADE_ROTACAO = 20\n",
    "    TEMPO_ANIMACAO = 5\n",
    "    \n",
    "# === Método de inciar uma classe. ================\n",
    "    def __init__(self, x, y):\n",
    "        self.x = x\n",
    "        self.y = y\n",
    "        self.angulo = 0\n",
    "        self.velocidade = 0\n",
    "        self.altura = self.y\n",
    "        self.tempo = 0\n",
    "        self.contagem_imagem = 0\n",
    "        self.imagem = self.IMGS[0]\n",
    "    \n",
    "    def pular(self):\n",
    "        self.velocidade = -10.5\n",
    "        self.tempo = 0 #será inserido na formula do sorvete. para ter animação de queda\n",
    "        self.altura = self.y\n",
    "    \n",
    "# === Método de animar e dar física ao passaro. ===\n",
    "    def mover(self):\n",
    "        # calcular o deslocamento\n",
    "        self.tempo += 1 # serve para atualizarr enquanto temos um novo frame\n",
    "        deslocamento = 1.5 * (self.tempo**2) + self.velocidade * self.tempo\n",
    "                \n",
    "        # restringir o deslocamento\n",
    "        if deslocamento > 16:\n",
    "            deslocamento = 16 # limita movimento absurdos do passaro, sem isso o passaro acelera infinitamente.\n",
    "        elif deslocamento < 0:\n",
    "            deslocamento -= 2 # ganho extra quando o passaro pula, pode fazer sem. facilitar a jogabilidade do jogo\n",
    "        \n",
    "        #precisamo movimentar o passaro:\n",
    "        self.y += deslocamento\n",
    "        \n",
    "        # o angulo de rotação do pássaro: quando passaro pula vira para cima enquanto tá pulando, so vira para baixo no ponto maximo\n",
    "        if deslocamento < 0 or self.y < (self.altura + 50): # self.altura + 50 é a diferença de onde tava e o pulo que deu.\n",
    "            # se o passaro tá pulando rotação maxima\n",
    "            if self.angulo < self.ROTACAO_MAXIMA:\n",
    "                self.angulo = self.ROTACAO_MAXIMA\n",
    "        # se o passaro não tá pulando eu deixo ele rotacionar a vontade até chegar a 90º em relação a horizontal\n",
    "        # o passaro não deve ficar rotacioando para tras\n",
    "        else: \n",
    "            if self.angulo > -90:\n",
    "                self.angulo -= self.VELOCIDADE_ROTACAO\n",
    "                # perceba que estamos diminuindo com a notação -= self.VELOCIDADE_ROTACAO\n",
    "                \n",
    "                \n",
    "# === Método de desenhar o passaro. ===============\n",
    "    def desenhar(self):"
   ]
  },
  {
   "cell_type": "code",
   "execution_count": null,
   "id": "4a942b2d",
   "metadata": {},
   "outputs": [],
   "source": [
    "class Cano:\n",
    "    pass\n",
    "\n"
   ]
  },
  {
   "cell_type": "code",
   "execution_count": null,
   "id": "b9023da9",
   "metadata": {},
   "outputs": [],
   "source": [
    "class Chao:\n",
    "    pass"
   ]
  }
 ],
 "metadata": {
  "kernelspec": {
   "display_name": "Python 3",
   "language": "python",
   "name": "python3"
  },
  "language_info": {
   "codemirror_mode": {
    "name": "ipython",
    "version": 3
   },
   "file_extension": ".py",
   "mimetype": "text/x-python",
   "name": "python",
   "nbconvert_exporter": "python",
   "pygments_lexer": "ipython3",
   "version": "3.12.4"
  }
 },
 "nbformat": 4,
 "nbformat_minor": 5
}
