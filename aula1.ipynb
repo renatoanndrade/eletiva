{
 "cells": [
  {
   "cell_type": "markdown",
   "id": "d2085f5f",
   "metadata": {},
   "source": [
    "# Primeiros Passos para programar um jogo\n",
    "* Instalar o pygame no computador: pip install pygame"
   ]
  },
  {
   "cell_type": "markdown",
   "id": "7b7101ce",
   "metadata": {},
   "source": []
  }
 ],
 "metadata": {
  "language_info": {
   "name": "python"
  }
 },
 "nbformat": 4,
 "nbformat_minor": 5
}
